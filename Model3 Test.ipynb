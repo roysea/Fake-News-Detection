{
 "cells": [
  {
   "cell_type": "markdown",
   "metadata": {},
   "source": [
    "### Model3"
   ]
  },
  {
   "cell_type": "code",
   "execution_count": 1,
   "metadata": {},
   "outputs": [
    {
     "data": {
      "text/html": [
       "<div>\n",
       "<style scoped>\n",
       "    .dataframe tbody tr th:only-of-type {\n",
       "        vertical-align: middle;\n",
       "    }\n",
       "\n",
       "    .dataframe tbody tr th {\n",
       "        vertical-align: top;\n",
       "    }\n",
       "\n",
       "    .dataframe thead th {\n",
       "        text-align: right;\n",
       "    }\n",
       "</style>\n",
       "<table border=\"1\" class=\"dataframe\">\n",
       "  <thead>\n",
       "    <tr style=\"text-align: right;\">\n",
       "      <th></th>\n",
       "      <th>title</th>\n",
       "      <th>text</th>\n",
       "      <th>subject</th>\n",
       "      <th>date</th>\n",
       "      <th>label</th>\n",
       "    </tr>\n",
       "  </thead>\n",
       "  <tbody>\n",
       "    <tr>\n",
       "      <th>0</th>\n",
       "      <td>As U.S. budget fight looms, Republicans flip t...</td>\n",
       "      <td>WASHINGTON (Reuters) - The head of a conservat...</td>\n",
       "      <td>politicsNews</td>\n",
       "      <td>December 31, 2017</td>\n",
       "      <td>1</td>\n",
       "    </tr>\n",
       "    <tr>\n",
       "      <th>1</th>\n",
       "      <td>U.S. military to accept transgender recruits o...</td>\n",
       "      <td>WASHINGTON (Reuters) - Transgender people will...</td>\n",
       "      <td>politicsNews</td>\n",
       "      <td>December 29, 2017</td>\n",
       "      <td>1</td>\n",
       "    </tr>\n",
       "    <tr>\n",
       "      <th>2</th>\n",
       "      <td>Senior U.S. Republican senator: 'Let Mr. Muell...</td>\n",
       "      <td>WASHINGTON (Reuters) - The special counsel inv...</td>\n",
       "      <td>politicsNews</td>\n",
       "      <td>December 31, 2017</td>\n",
       "      <td>1</td>\n",
       "    </tr>\n",
       "    <tr>\n",
       "      <th>3</th>\n",
       "      <td>FBI Russia probe helped by Australian diplomat...</td>\n",
       "      <td>WASHINGTON (Reuters) - Trump campaign adviser ...</td>\n",
       "      <td>politicsNews</td>\n",
       "      <td>December 30, 2017</td>\n",
       "      <td>1</td>\n",
       "    </tr>\n",
       "    <tr>\n",
       "      <th>4</th>\n",
       "      <td>Trump wants Postal Service to charge 'much mor...</td>\n",
       "      <td>SEATTLE/WASHINGTON (Reuters) - President Donal...</td>\n",
       "      <td>politicsNews</td>\n",
       "      <td>December 29, 2017</td>\n",
       "      <td>1</td>\n",
       "    </tr>\n",
       "    <tr>\n",
       "      <th>5</th>\n",
       "      <td>White House, Congress prepare for talks on spe...</td>\n",
       "      <td>WEST PALM BEACH, Fla./WASHINGTON (Reuters) - T...</td>\n",
       "      <td>politicsNews</td>\n",
       "      <td>December 29, 2017</td>\n",
       "      <td>1</td>\n",
       "    </tr>\n",
       "    <tr>\n",
       "      <th>6</th>\n",
       "      <td>Trump says Russia probe will be fair, but time...</td>\n",
       "      <td>WEST PALM BEACH, Fla (Reuters) - President Don...</td>\n",
       "      <td>politicsNews</td>\n",
       "      <td>December 29, 2017</td>\n",
       "      <td>1</td>\n",
       "    </tr>\n",
       "    <tr>\n",
       "      <th>7</th>\n",
       "      <td>Factbox: Trump on Twitter (Dec 29) - Approval ...</td>\n",
       "      <td>The following statements were posted to the ve...</td>\n",
       "      <td>politicsNews</td>\n",
       "      <td>December 29, 2017</td>\n",
       "      <td>1</td>\n",
       "    </tr>\n",
       "    <tr>\n",
       "      <th>8</th>\n",
       "      <td>Trump on Twitter (Dec 28) - Global Warming</td>\n",
       "      <td>The following statements were posted to the ve...</td>\n",
       "      <td>politicsNews</td>\n",
       "      <td>December 29, 2017</td>\n",
       "      <td>1</td>\n",
       "    </tr>\n",
       "    <tr>\n",
       "      <th>9</th>\n",
       "      <td>Alabama official to certify Senator-elect Jone...</td>\n",
       "      <td>WASHINGTON (Reuters) - Alabama Secretary of St...</td>\n",
       "      <td>politicsNews</td>\n",
       "      <td>December 28, 2017</td>\n",
       "      <td>1</td>\n",
       "    </tr>\n",
       "    <tr>\n",
       "      <th>10</th>\n",
       "      <td>Jones certified U.S. Senate winner despite Moo...</td>\n",
       "      <td>(Reuters) - Alabama officials on Thursday cert...</td>\n",
       "      <td>politicsNews</td>\n",
       "      <td>December 28, 2017</td>\n",
       "      <td>1</td>\n",
       "    </tr>\n",
       "    <tr>\n",
       "      <th>11</th>\n",
       "      <td>New York governor questions the constitutional...</td>\n",
       "      <td>NEW YORK/WASHINGTON (Reuters) - The new U.S. t...</td>\n",
       "      <td>politicsNews</td>\n",
       "      <td>December 28, 2017</td>\n",
       "      <td>1</td>\n",
       "    </tr>\n",
       "    <tr>\n",
       "      <th>12</th>\n",
       "      <td>Factbox: Trump on Twitter (Dec 28) - Vanity Fa...</td>\n",
       "      <td>The following statements were posted to the ve...</td>\n",
       "      <td>politicsNews</td>\n",
       "      <td>December 28, 2017</td>\n",
       "      <td>1</td>\n",
       "    </tr>\n",
       "    <tr>\n",
       "      <th>13</th>\n",
       "      <td>Trump on Twitter (Dec 27) - Trump, Iraq, Syria</td>\n",
       "      <td>The following statements were posted to the ve...</td>\n",
       "      <td>politicsNews</td>\n",
       "      <td>December 28, 2017</td>\n",
       "      <td>1</td>\n",
       "    </tr>\n",
       "    <tr>\n",
       "      <th>14</th>\n",
       "      <td>Man says he delivered manure to Mnuchin to pro...</td>\n",
       "      <td>(In Dec. 25 story, in second paragraph, corre...</td>\n",
       "      <td>politicsNews</td>\n",
       "      <td>December 25, 2017</td>\n",
       "      <td>1</td>\n",
       "    </tr>\n",
       "  </tbody>\n",
       "</table>\n",
       "</div>"
      ],
      "text/plain": [
       "                                                title  \\\n",
       "0   As U.S. budget fight looms, Republicans flip t...   \n",
       "1   U.S. military to accept transgender recruits o...   \n",
       "2   Senior U.S. Republican senator: 'Let Mr. Muell...   \n",
       "3   FBI Russia probe helped by Australian diplomat...   \n",
       "4   Trump wants Postal Service to charge 'much mor...   \n",
       "5   White House, Congress prepare for talks on spe...   \n",
       "6   Trump says Russia probe will be fair, but time...   \n",
       "7   Factbox: Trump on Twitter (Dec 29) - Approval ...   \n",
       "8          Trump on Twitter (Dec 28) - Global Warming   \n",
       "9   Alabama official to certify Senator-elect Jone...   \n",
       "10  Jones certified U.S. Senate winner despite Moo...   \n",
       "11  New York governor questions the constitutional...   \n",
       "12  Factbox: Trump on Twitter (Dec 28) - Vanity Fa...   \n",
       "13     Trump on Twitter (Dec 27) - Trump, Iraq, Syria   \n",
       "14  Man says he delivered manure to Mnuchin to pro...   \n",
       "\n",
       "                                                 text       subject  \\\n",
       "0   WASHINGTON (Reuters) - The head of a conservat...  politicsNews   \n",
       "1   WASHINGTON (Reuters) - Transgender people will...  politicsNews   \n",
       "2   WASHINGTON (Reuters) - The special counsel inv...  politicsNews   \n",
       "3   WASHINGTON (Reuters) - Trump campaign adviser ...  politicsNews   \n",
       "4   SEATTLE/WASHINGTON (Reuters) - President Donal...  politicsNews   \n",
       "5   WEST PALM BEACH, Fla./WASHINGTON (Reuters) - T...  politicsNews   \n",
       "6   WEST PALM BEACH, Fla (Reuters) - President Don...  politicsNews   \n",
       "7   The following statements were posted to the ve...  politicsNews   \n",
       "8   The following statements were posted to the ve...  politicsNews   \n",
       "9   WASHINGTON (Reuters) - Alabama Secretary of St...  politicsNews   \n",
       "10  (Reuters) - Alabama officials on Thursday cert...  politicsNews   \n",
       "11  NEW YORK/WASHINGTON (Reuters) - The new U.S. t...  politicsNews   \n",
       "12  The following statements were posted to the ve...  politicsNews   \n",
       "13  The following statements were posted to the ve...  politicsNews   \n",
       "14   (In Dec. 25 story, in second paragraph, corre...  politicsNews   \n",
       "\n",
       "                  date  label  \n",
       "0   December 31, 2017       1  \n",
       "1   December 29, 2017       1  \n",
       "2   December 31, 2017       1  \n",
       "3   December 30, 2017       1  \n",
       "4   December 29, 2017       1  \n",
       "5   December 29, 2017       1  \n",
       "6   December 29, 2017       1  \n",
       "7   December 29, 2017       1  \n",
       "8   December 29, 2017       1  \n",
       "9   December 28, 2017       1  \n",
       "10  December 28, 2017       1  \n",
       "11  December 28, 2017       1  \n",
       "12  December 28, 2017       1  \n",
       "13  December 28, 2017       1  \n",
       "14  December 25, 2017       1  "
      ]
     },
     "execution_count": 1,
     "metadata": {},
     "output_type": "execute_result"
    }
   ],
   "source": [
    "%load_ext autoreload\n",
    "%autoreload 2\n",
    "\n",
    "import seaborn as sns\n",
    "import matplotlib.pyplot as plt\n",
    "from collections import defaultdict\n",
    "import random as rn\n",
    "import numpy as np\n",
    "import pandas as pd\n",
    "\n",
    "combined_df = pd.read_csv('combined_df.csv') \n",
    "combined_df.head(15)"
   ]
  },
  {
   "cell_type": "code",
   "execution_count": 2,
   "metadata": {},
   "outputs": [
    {
     "data": {
      "text/html": [
       "<div>\n",
       "<style scoped>\n",
       "    .dataframe tbody tr th:only-of-type {\n",
       "        vertical-align: middle;\n",
       "    }\n",
       "\n",
       "    .dataframe tbody tr th {\n",
       "        vertical-align: top;\n",
       "    }\n",
       "\n",
       "    .dataframe thead th {\n",
       "        text-align: right;\n",
       "    }\n",
       "</style>\n",
       "<table border=\"1\" class=\"dataframe\">\n",
       "  <thead>\n",
       "    <tr style=\"text-align: right;\">\n",
       "      <th></th>\n",
       "      <th>id</th>\n",
       "      <th>ambg</th>\n",
       "      <th>lex_div</th>\n",
       "      <th>neg</th>\n",
       "      <th>neu</th>\n",
       "      <th>pos</th>\n",
       "      <th>compound</th>\n",
       "      <th>tfid</th>\n",
       "      <th>label</th>\n",
       "    </tr>\n",
       "  </thead>\n",
       "  <tbody>\n",
       "    <tr>\n",
       "      <th>0</th>\n",
       "      <td>411</td>\n",
       "      <td>129.500000</td>\n",
       "      <td>0.958333</td>\n",
       "      <td>0.0000</td>\n",
       "      <td>0.942500</td>\n",
       "      <td>0.057500</td>\n",
       "      <td>0.25530</td>\n",
       "      <td>0.025000</td>\n",
       "      <td>1</td>\n",
       "    </tr>\n",
       "    <tr>\n",
       "      <th>1</th>\n",
       "      <td>502</td>\n",
       "      <td>196.000000</td>\n",
       "      <td>0.814815</td>\n",
       "      <td>0.0000</td>\n",
       "      <td>1.000000</td>\n",
       "      <td>0.000000</td>\n",
       "      <td>0.00000</td>\n",
       "      <td>0.040909</td>\n",
       "      <td>1</td>\n",
       "    </tr>\n",
       "    <tr>\n",
       "      <th>2</th>\n",
       "      <td>506</td>\n",
       "      <td>281.500000</td>\n",
       "      <td>0.821870</td>\n",
       "      <td>0.0000</td>\n",
       "      <td>0.922500</td>\n",
       "      <td>0.077500</td>\n",
       "      <td>0.43160</td>\n",
       "      <td>0.011544</td>\n",
       "      <td>1</td>\n",
       "    </tr>\n",
       "    <tr>\n",
       "      <th>3</th>\n",
       "      <td>530</td>\n",
       "      <td>88.166667</td>\n",
       "      <td>0.953922</td>\n",
       "      <td>0.0000</td>\n",
       "      <td>0.946667</td>\n",
       "      <td>0.053333</td>\n",
       "      <td>0.10195</td>\n",
       "      <td>0.012000</td>\n",
       "      <td>1</td>\n",
       "    </tr>\n",
       "    <tr>\n",
       "      <th>4</th>\n",
       "      <td>541</td>\n",
       "      <td>169.500000</td>\n",
       "      <td>0.910401</td>\n",
       "      <td>0.0795</td>\n",
       "      <td>0.876500</td>\n",
       "      <td>0.044000</td>\n",
       "      <td>-0.08895</td>\n",
       "      <td>0.015957</td>\n",
       "      <td>1</td>\n",
       "    </tr>\n",
       "  </tbody>\n",
       "</table>\n",
       "</div>"
      ],
      "text/plain": [
       "    id        ambg   lex_div     neg       neu       pos  compound      tfid  \\\n",
       "0  411  129.500000  0.958333  0.0000  0.942500  0.057500   0.25530  0.025000   \n",
       "1  502  196.000000  0.814815  0.0000  1.000000  0.000000   0.00000  0.040909   \n",
       "2  506  281.500000  0.821870  0.0000  0.922500  0.077500   0.43160  0.011544   \n",
       "3  530   88.166667  0.953922  0.0000  0.946667  0.053333   0.10195  0.012000   \n",
       "4  541  169.500000  0.910401  0.0795  0.876500  0.044000  -0.08895  0.015957   \n",
       "\n",
       "   label  \n",
       "0      1  \n",
       "1      1  \n",
       "2      1  \n",
       "3      1  \n",
       "4      1  "
      ]
     },
     "execution_count": 2,
     "metadata": {},
     "output_type": "execute_result"
    }
   ],
   "source": [
    "feature_df = pd.read_csv('feature_df.csv') \n",
    "feature_df.head(5)"
   ]
  },
  {
   "cell_type": "code",
   "execution_count": 3,
   "metadata": {},
   "outputs": [
    {
     "data": {
      "text/plain": [
       "0    22645\n",
       "1    21416\n",
       "Name: label, dtype: int64"
      ]
     },
     "execution_count": 3,
     "metadata": {},
     "output_type": "execute_result"
    }
   ],
   "source": [
    "combined_df['label'].value_counts() "
   ]
  },
  {
   "cell_type": "code",
   "execution_count": 4,
   "metadata": {},
   "outputs": [],
   "source": [
    "#balanced_df = combined_df.groupby('label').head(3000)\n",
    "#balanced_df['label'].describe()"
   ]
  },
  {
   "cell_type": "code",
   "execution_count": 5,
   "metadata": {},
   "outputs": [],
   "source": [
    "import pickle\n",
    "\n",
    "with open('paraList.pkl', 'rb') as f:\n",
    "    paraList = pickle.load(f)"
   ]
  },
  {
   "cell_type": "code",
   "execution_count": 6,
   "metadata": {},
   "outputs": [
    {
     "data": {
      "text/plain": [
       "23114"
      ]
     },
     "execution_count": 6,
     "metadata": {},
     "output_type": "execute_result"
    }
   ],
   "source": [
    "# List of just words, some bug..\n",
    "len(paraList)"
   ]
  },
  {
   "cell_type": "code",
   "execution_count": 7,
   "metadata": {},
   "outputs": [
    {
     "name": "stdout",
     "output_type": "stream",
     "text": [
      "0 500 1000 1500 2000 2500 3000 3500 4000 4500 5000 5500 6000 6500 7000 7500 8000 8500 9000 9500 10000 10500 11000 11500 12000 12500 13000 13500 14000 14500 15000 15500 16000 16500 17000 17500 18000 18500 19000 19500 20000 20500 21000 21500 22000 22500 23000 23500 24000 24500 25000 25500 26000 26500 27000 27500 28000 28500 29000 29500 30000 30500 31000 31500 32000 32500 33000 33500 34000 34500 35000 35500 36000 36500 37000 37500 38000 38500 39000 39500 40000 40500 41000 41500 42000 42500 43000 43500 44000 "
     ]
    }
   ],
   "source": [
    "from nltk.tokenize import sent_tokenize\n",
    "\n",
    "sentence_list = []\n",
    "paragraph_list = []\n",
    "\n",
    "for i in range(0, len(combined_df)):\n",
    "    sentences = sent_tokenize(combined_df.iloc[i]['text'])\n",
    "    paragraph_list.append(combined_df.iloc[i]['text'])\n",
    "    for s in sentences:\n",
    "        sentence_list.append(s)\n",
    "                              \n",
    "    if(i%500 == 0):\n",
    "        print(i, end=\" \")\n",
    "    "
   ]
  },
  {
   "cell_type": "code",
   "execution_count": 8,
   "metadata": {
    "scrolled": true
   },
   "outputs": [
    {
     "name": "stdout",
     "output_type": "stream",
     "text": [
      "CPU times: user 9.97 s, sys: 120 ms, total: 10.1 s\n",
      "Wall time: 10.1 s\n"
     ]
    },
    {
     "data": {
      "text/plain": [
       "CountVectorizer(analyzer='word', binary=False, decode_error='strict',\n",
       "                dtype=<class 'numpy.int64'>, encoding='utf-8', input='content',\n",
       "                lowercase=False, max_df=1.0, max_features=1000, min_df=0,\n",
       "                ngram_range=(1, 1), preprocessor=None, stop_words=None,\n",
       "                strip_accents=None, token_pattern='(?u)\\\\b\\\\w\\\\w+\\\\b',\n",
       "                tokenizer=None, vocabulary=None)"
      ]
     },
     "execution_count": 8,
     "metadata": {},
     "output_type": "execute_result"
    }
   ],
   "source": [
    "%%time\n",
    "'''\n",
    "\n",
    "takes the words of each sentence and creates a vocabulary of all the unique words in the sentences. \n",
    "This vocabulary can then be used to create a feature vector of the count of the words:\n",
    "\n",
    "'''\n",
    "from sklearn.feature_extraction.text import CountVectorizer\n",
    "import nltk\n",
    "from nltk.tokenize import sent_tokenize\n",
    "from nltk.corpus import stopwords\n",
    "from nltk.stem.porter import PorterStemmer\n",
    "from nltk.tokenize import word_tokenize\n",
    "import re\n",
    "\n",
    "vectorizer = CountVectorizer(min_df=0, max_features=1000, lowercase=False)\n",
    "vectorizer.fit(sentence_list)\n",
    "#vectorizer.vocabulary_"
   ]
  },
  {
   "cell_type": "code",
   "execution_count": 9,
   "metadata": {},
   "outputs": [
    {
     "data": {
      "text/plain": [
       "(1, 1000)"
      ]
     },
     "execution_count": 9,
     "metadata": {},
     "output_type": "execute_result"
    }
   ],
   "source": [
    "vectorizer.transform([paragraph_list[0]]).toarray().shape"
   ]
  },
  {
   "cell_type": "code",
   "execution_count": 10,
   "metadata": {},
   "outputs": [
    {
     "name": "stdout",
     "output_type": "stream",
     "text": [
      "[ 0  2  0  1  0  0  0  0  0  0  1  0  0  0  0  0  0  0  0  1  0  0  0  0\n",
      "  0  0  0  0  0  0  0  0  0  0  0  0  0  0  0  0  0  0  0  1  0  0  1  0\n",
      "  0  0  0  0  0  0  2  0  0  0  0  0  2  0  1  5  0  0  1  0  0  0  0  0\n",
      "  0  0  0  0  0  2  0  1  0  0  0  0  0  0  0  0  1  0  0  0  0  6  0  0\n",
      "  0  0  2  0  0  0  0  1  0  1  0  0  0  0  0  0  1  0  0  0  0  0  0  0\n",
      "  0  0  0  0  0  0  0  0  0  0  0  0  0  1  1  0  0  0  0  1  0  0  1  0\n",
      "  0  0  1  0  0  1  6  8  1  0  0  0  2  0  0  0  0  0  3  0  1  0  0  0\n",
      "  0  0  0  1  2  0  0  0  0  0  0  1  1  6  0  0  0  1  0  0  0  0  7  0\n",
      "  0  1  0  0  1  0  0  1  1  0  2  2  0  0  1  0  1  0  0  0  0  3  0  0\n",
      "  0  0  0  0  0  0  0  0  0  0  2  0  1  0  0  0  0  0  0  0  0  0  0  0\n",
      "  0  0  0  0  0  0  0  0  1  3  0  0  2  1 16  0  0  0  0  0  0  0  2  0\n",
      "  0  0  7  0  0  0  0  0  0  0  0  1  0  0  0  0  6  0  0  0  1  0  0  0\n",
      "  0  0  0  0  0  0  1  1  2  2  0  1  1  0  1  5  0  0  1  6  0  1  0  1\n",
      "  0  0  0  0  0  0  0  0  0  0  1  0  0  0  0  1  0  0  0  0  0  0  0  1\n",
      "  0  0  0  0  0  0  1  0  0  0  0  0  0  0  0  0  0  0  0  2  3  0  0  0\n",
      "  2  0  0  0  1  0  0  1  0  0  0  0  0  0  0  0  0  0  0  3  0  0  0  0\n",
      "  3  0  0  0  0  1  0  0  0  2  0  0  0  0  0  1  0  0  0  0  0  0  1  0\n",
      "  1  0  0  0  0  0  1  0  0  0  0  0  0  1  0  0  1  0  1  0  0  0  0  0\n",
      "  1  0  0  0  0  0  0  1  0  3  0  0  1  0  0  0  0  0  0  0  0  0  0 14\n",
      "  0  0  0  0  0  0  0  0  0  2  0  0  2  1  1  0  0  0  0  1  0  0  0  2\n",
      "  0  0  2  0  0  0  0  0  0  0  0  0  1  4  0  1  0  2  1  2  0  0  0  1\n",
      "  0  0  0  0  0  1  2  1  0  0  0  0  0  0  0  0  0  0  0  0  0  0  0  1\n",
      "  2  0 17  0  0  0  0  2  0  0  0  0  0  1  0  0  0  1  0  0  0  3  0  2\n",
      "  0  2  1  0  1  0  0  0  0  1  0  0  0  0  0  0  0  0  1  0  0  1  2  0\n",
      "  0  0  0  2  0  0  1  0  0  0  0  0  0  0  0  0  0  0  0  1  1  0  0  0\n",
      "  0  0  0  0  0  0  0  0  0  0  0  0  0  0  0  0  0  1  0  2  0  0  1  0\n",
      "  1  0  0  2  0  0  0  0  0  0  0  1  0  0  0  0  1  1  0  2  0  0  0  0\n",
      "  0  0  0  0  0  2  0  0  2  1  0  0  0  0  0  0  0  0  0  3  3  0  0  0\n",
      "  0 13  1  0  0  0  0  0  1  0  0 12  0  1  0  0  0  2  0  0  5  0  0  1\n",
      "  0  2  0  1  0  0  0  2  1  2  0  3  0  2  2  0  0  0  0  0  0  0  0  0\n",
      "  0  2  0  0  0  0  0  0  0  0  0  0  0  1  0  0  0  0  0  0  0  0  0  0\n",
      "  2  1  0  0  0  0  0  1  1  0  0  0  0  0  0  0  2  0  0  0  0  0  0  1\n",
      "  1  0  1  0  0  0  0  0  0  0  0  1  0  0  0  0  0  0  0  0  1  0  0  0\n",
      "  0  0  0  1  0  8  0  0  0  1  2  0  0  0  0  0  1  1  0  1  0  0  0  0\n",
      "  0  0  0  2  0  0  0  0  0  1  0  0  0  0  0  0  0  0  0  1  0  2  1  0\n",
      "  0  0  0  0  0  0  1  0  0  6  0  0  0  0  0  0  0  0  0  0  0  0  0  0\n",
      "  0  0  2  1  0  0  0  1  0  0  1  0  0  8  0  0  0  0  0  0  2  4 38  3\n",
      "  1  0  0  0  0  2  0  0  1  0  2  1  0  0  0  0  0  0  0  0  0 30  0  0\n",
      "  1  0  0  1  0  0  0  0  0  0  1  1  0  0  0  0  0  1  0  0  0  1  0  0\n",
      "  1  0  0  0  0  0  0  0  3  0  1  0  2  2  0  2  0  2  0  0  0  1  3  0\n",
      "  0  0  0  1  1  0  0  0  2  0  5  2  0  4  0  0  0  7  0  4  0  0  0  0\n",
      "  0  0  1  0  0  0  0  3  0  0  0  3  1  1  1  0]\n"
     ]
    }
   ],
   "source": [
    "train_dataset = vectorizer.transform(paragraph_list).toarray()\n",
    "print(train_dataset[0])"
   ]
  },
  {
   "cell_type": "code",
   "execution_count": 11,
   "metadata": {},
   "outputs": [
    {
     "name": "stdout",
     "output_type": "stream",
     "text": [
      "33045 11016 33045 11016\n"
     ]
    }
   ],
   "source": [
    "from sklearn.model_selection import train_test_split\n",
    "\n",
    "y = combined_df['label'].values\n",
    "\n",
    "X_train, X_test, y_train, y_test = train_test_split(\n",
    "   train_dataset, y, test_size=0.25, random_state=1000)\n",
    "\n",
    "print(len(X_train), len(X_test), len(y_train), len(y_test))"
   ]
  },
  {
   "cell_type": "code",
   "execution_count": 12,
   "metadata": {},
   "outputs": [
    {
     "data": {
      "text/plain": [
       "(1000,)"
      ]
     },
     "execution_count": 12,
     "metadata": {},
     "output_type": "execute_result"
    }
   ],
   "source": [
    "X_train[0].shape"
   ]
  },
  {
   "cell_type": "code",
   "execution_count": 13,
   "metadata": {},
   "outputs": [
    {
     "data": {
      "text/plain": [
       "array([289, 469, 278, ..., 499, 250, 266])"
      ]
     },
     "execution_count": 13,
     "metadata": {},
     "output_type": "execute_result"
    }
   ],
   "source": [
    "np.sum(X_test, axis=1)"
   ]
  },
  {
   "cell_type": "code",
   "execution_count": 14,
   "metadata": {},
   "outputs": [
    {
     "data": {
      "text/plain": [
       "[<matplotlib.lines.Line2D at 0x7fa6e9eb7208>]"
      ]
     },
     "execution_count": 14,
     "metadata": {},
     "output_type": "execute_result"
    },
    {
     "data": {
      "image/png": "[encoded data removed]",
      "text/plain": [
       "<Figure size 432x288 with 1 Axes>"
      ]
     },
     "metadata": {
      "needs_background": "light"
     },
     "output_type": "display_data"
    }
   ],
   "source": [
    "fig, ax = plt.subplots()\n",
    "ax.plot(np.sum(X_test, axis=1))"
   ]
  },
  {
   "cell_type": "code",
   "execution_count": 15,
   "metadata": {},
   "outputs": [
    {
     "name": "stdout",
     "output_type": "stream",
     "text": [
      "Accuracy: 0.9944625998547567\n"
     ]
    }
   ],
   "source": [
    "from sklearn.linear_model import LogisticRegression\n",
    "\n",
    "classifier = LogisticRegression(max_iter=5000)\n",
    "classifier.fit(X_train, y_train)\n",
    "score = classifier.score((X_test), y_test)\n",
    "\n",
    "print(\"Accuracy:\", score)"
   ]
  },
  {
   "cell_type": "code",
   "execution_count": 16,
   "metadata": {},
   "outputs": [
    {
     "data": {
      "text/plain": [
       "0.48367377818126794"
      ]
     },
     "execution_count": 16,
     "metadata": {},
     "output_type": "execute_result"
    }
   ],
   "source": [
    "np.mean(y_train)"
   ]
  },
  {
   "cell_type": "code",
   "execution_count": 17,
   "metadata": {},
   "outputs": [
    {
     "data": {
      "text/plain": [
       "1000"
      ]
     },
     "execution_count": 17,
     "metadata": {},
     "output_type": "execute_result"
    }
   ],
   "source": [
    "X_test[0].shape[0]"
   ]
  },
  {
   "cell_type": "code",
   "execution_count": 18,
   "metadata": {},
   "outputs": [
    {
     "name": "stderr",
     "output_type": "stream",
     "text": [
      "Using TensorFlow backend.\n",
      "WARNING:root:Limited tf.compat.v2.summary API due to missing TensorBoard installation.\n",
      "WARNING:root:Limited tf.compat.v2.summary API due to missing TensorBoard installation.\n",
      "WARNING:root:Limited tf.compat.v2.summary API due to missing TensorBoard installation.\n",
      "WARNING:root:Limited tf.compat.v2.summary API due to missing TensorBoard installation.\n",
      "WARNING:root:Limited tf.compat.v2.summary API due to missing TensorBoard installation.\n",
      "WARNING:root:Limited tf.compat.v2.summary API due to missing TensorBoard installation.\n",
      "WARNING:root:Limited tf.summary API due to missing TensorBoard installation.\n",
      "WARNING:root:Limited tf.compat.v2.summary API due to missing TensorBoard installation.\n",
      "WARNING:root:Limited tf.compat.v2.summary API due to missing TensorBoard installation.\n",
      "WARNING:root:Limited tf.compat.v2.summary API due to missing TensorBoard installation.\n"
     ]
    },
    {
     "name": "stdout",
     "output_type": "stream",
     "text": [
      "Model: \"sequential_1\"\n",
      "_________________________________________________________________\n",
      "Layer (type)                 Output Shape              Param #   \n",
      "=================================================================\n",
      "dense_1 (Dense)              (None, 64)                64064     \n",
      "_________________________________________________________________\n",
      "dropout_1 (Dropout)          (None, 64)                0         \n",
      "_________________________________________________________________\n",
      "dense_2 (Dense)              (None, 32)                2080      \n",
      "_________________________________________________________________\n",
      "dense_3 (Dense)              (None, 1)                 33        \n",
      "=================================================================\n",
      "Total params: 66,177\n",
      "Trainable params: 66,177\n",
      "Non-trainable params: 0\n",
      "_________________________________________________________________\n"
     ]
    }
   ],
   "source": [
    "from keras.models import Sequential\n",
    "from keras import layers\n",
    "\n",
    "input_dim = X_train[0].shape[0]  # Number of features\n",
    "\n",
    "model = Sequential()\n",
    "model.add(layers.Dense(64, input_dim=input_dim, activation='relu'))\n",
    "model.add(layers.Dropout(rate = 0.4))\n",
    "model.add(layers.Dense(32, activation='relu'))\n",
    "model.add(layers.Dense(1, activation='sigmoid'))\n",
    "model.compile(loss='binary_crossentropy', \n",
    "              optimizer='adam', \n",
    "              metrics=['accuracy'])\n",
    "model.summary()"
   ]
  },
  {
   "cell_type": "code",
   "execution_count": 19,
   "metadata": {},
   "outputs": [
    {
     "data": {
      "image/png": "[encoded data removed]",
      "text/plain": [
       "<IPython.core.display.Image object>"
      ]
     },
     "execution_count": 19,
     "metadata": {},
     "output_type": "execute_result"
    }
   ],
   "source": [
    "from keras.utils import plot_model\n",
    "\n",
    "plot_model(model, to_file='model3.png', show_shapes=True, show_layer_names=True)"
   ]
  },
  {
   "cell_type": "code",
   "execution_count": 20,
   "metadata": {},
   "outputs": [
    {
     "data": {
      "text/plain": [
       "(33045, 1000)"
      ]
     },
     "execution_count": 20,
     "metadata": {},
     "output_type": "execute_result"
    }
   ],
   "source": [
    "np.array(X_train).shape"
   ]
  },
  {
   "cell_type": "code",
   "execution_count": 31,
   "metadata": {},
   "outputs": [],
   "source": [
    "vocab = list(vectorizer.vocabulary_)"
   ]
  },
  {
   "cell_type": "code",
   "execution_count": 35,
   "metadata": {},
   "outputs": [
    {
     "data": {
      "text/plain": [
       "'pic'"
      ]
     },
     "execution_count": 35,
     "metadata": {},
     "output_type": "execute_result"
    }
   ],
   "source": [
    "vocab[997]"
   ]
  },
  {
   "cell_type": "code",
   "execution_count": 23,
   "metadata": {},
   "outputs": [
    {
     "data": {
      "text/html": [
       "<div>\n",
       "<style scoped>\n",
       "    .dataframe tbody tr th:only-of-type {\n",
       "        vertical-align: middle;\n",
       "    }\n",
       "\n",
       "    .dataframe tbody tr th {\n",
       "        vertical-align: top;\n",
       "    }\n",
       "\n",
       "    .dataframe thead th {\n",
       "        text-align: right;\n",
       "    }\n",
       "</style>\n",
       "<table border=\"1\" class=\"dataframe\">\n",
       "  <thead>\n",
       "    <tr style=\"text-align: right;\">\n",
       "      <th></th>\n",
       "      <th>0</th>\n",
       "      <th>1</th>\n",
       "      <th>2</th>\n",
       "      <th>3</th>\n",
       "      <th>4</th>\n",
       "      <th>5</th>\n",
       "      <th>6</th>\n",
       "      <th>7</th>\n",
       "      <th>8</th>\n",
       "      <th>9</th>\n",
       "      <th>...</th>\n",
       "      <th>991</th>\n",
       "      <th>992</th>\n",
       "      <th>993</th>\n",
       "      <th>994</th>\n",
       "      <th>995</th>\n",
       "      <th>996</th>\n",
       "      <th>997</th>\n",
       "      <th>998</th>\n",
       "      <th>999</th>\n",
       "      <th>label</th>\n",
       "    </tr>\n",
       "  </thead>\n",
       "  <tbody>\n",
       "    <tr>\n",
       "      <th>0</th>\n",
       "      <td>0</td>\n",
       "      <td>0</td>\n",
       "      <td>0</td>\n",
       "      <td>0</td>\n",
       "      <td>0</td>\n",
       "      <td>0</td>\n",
       "      <td>0</td>\n",
       "      <td>0</td>\n",
       "      <td>0</td>\n",
       "      <td>0</td>\n",
       "      <td>...</td>\n",
       "      <td>1</td>\n",
       "      <td>0</td>\n",
       "      <td>0</td>\n",
       "      <td>0</td>\n",
       "      <td>0</td>\n",
       "      <td>0</td>\n",
       "      <td>4</td>\n",
       "      <td>0</td>\n",
       "      <td>1</td>\n",
       "      <td>0</td>\n",
       "    </tr>\n",
       "    <tr>\n",
       "      <th>1</th>\n",
       "      <td>0</td>\n",
       "      <td>0</td>\n",
       "      <td>0</td>\n",
       "      <td>0</td>\n",
       "      <td>0</td>\n",
       "      <td>1</td>\n",
       "      <td>0</td>\n",
       "      <td>0</td>\n",
       "      <td>0</td>\n",
       "      <td>0</td>\n",
       "      <td>...</td>\n",
       "      <td>0</td>\n",
       "      <td>0</td>\n",
       "      <td>0</td>\n",
       "      <td>0</td>\n",
       "      <td>0</td>\n",
       "      <td>0</td>\n",
       "      <td>0</td>\n",
       "      <td>0</td>\n",
       "      <td>0</td>\n",
       "      <td>0</td>\n",
       "    </tr>\n",
       "  </tbody>\n",
       "</table>\n",
       "<p>2 rows × 1001 columns</p>\n",
       "</div>"
      ],
      "text/plain": [
       "   0  1  2  3  4  5  6  7  8  9  ...  991  992  993  994  995  996  997  998  \\\n",
       "0  0  0  0  0  0  0  0  0  0  0  ...    1    0    0    0    0    0    4    0   \n",
       "1  0  0  0  0  0  1  0  0  0  0  ...    0    0    0    0    0    0    0    0   \n",
       "\n",
       "   999  label  \n",
       "0    1      0  \n",
       "1    0      0  \n",
       "\n",
       "[2 rows x 1001 columns]"
      ]
     },
     "execution_count": 23,
     "metadata": {},
     "output_type": "execute_result"
    }
   ],
   "source": [
    "test = pd.DataFrame(X_train)\n",
    "test['label'] = y_train\n",
    "\n",
    "test.head(2)"
   ]
  },
  {
   "cell_type": "code",
   "execution_count": 25,
   "metadata": {},
   "outputs": [
    {
     "data": {
      "text/plain": [
       "0    17062\n",
       "1    15983\n",
       "Name: label, dtype: int64"
      ]
     },
     "execution_count": 25,
     "metadata": {},
     "output_type": "execute_result"
    }
   ],
   "source": [
    "test['label'].value_counts()"
   ]
  },
  {
   "cell_type": "code",
   "execution_count": 26,
   "metadata": {},
   "outputs": [
    {
     "name": "stdout",
     "output_type": "stream",
     "text": [
      "0        0.036195\n",
      "1        0.006210\n",
      "2        0.008025\n",
      "3        0.044967\n",
      "4        0.012860\n",
      "           ...   \n",
      "996      0.060323\n",
      "997      0.276235\n",
      "998      0.075830\n",
      "999      0.188338\n",
      "label    1.000000\n",
      "Name: label, Length: 1001, dtype: float64\n"
     ]
    }
   ],
   "source": [
    "cor = abs(test.corr()[\"label\"])\n"
   ]
  },
  {
   "cell_type": "code",
   "execution_count": 21,
   "metadata": {},
   "outputs": [],
   "source": [
    "from keras.callbacks import ModelCheckpoint\n",
    "\n",
    "newtrainX = np.array(X_train)\n",
    "newtestX = np.array(X_test)\n",
    "checkpoint = ModelCheckpoint('model-{epoch:03d}-{accuracy:03f}-{val_accuracy:03f}.h5', verbose=1, monitor='val_loss',save_best_only=True, mode='auto')  "
   ]
  },
  {
   "cell_type": "code",
   "execution_count": 22,
   "metadata": {
    "scrolled": true
   },
   "outputs": [
    {
     "name": "stdout",
     "output_type": "stream",
     "text": [
      "Train on 33045 samples, validate on 11016 samples\n",
      "Epoch 1/500\n",
      "33045/33045 [==============================] - 1s 24us/step - loss: 0.1786 - accuracy: 0.9429 - val_loss: 0.0713 - val_accuracy: 0.9851\n",
      "\n",
      "Epoch 00001: val_loss improved from inf to 0.07132, saving model to model-001-0.942926-0.985113.h5\n",
      "Epoch 2/500\n",
      "33045/33045 [==============================] - 1s 15us/step - loss: 0.0559 - accuracy: 0.9851 - val_loss: 0.0489 - val_accuracy: 0.9877\n",
      "\n",
      "Epoch 00002: val_loss improved from 0.07132 to 0.04893, saving model to model-002-0.985081-0.987745.h5\n",
      "Epoch 3/500\n",
      "33045/33045 [==============================] - 1s 16us/step - loss: 0.0328 - accuracy: 0.9918 - val_loss: 0.0332 - val_accuracy: 0.9919\n",
      "\n",
      "Epoch 00003: val_loss improved from 0.04893 to 0.03319, saving model to model-003-0.991799-0.991921.h5\n",
      "Epoch 4/500\n",
      "33045/33045 [==============================] - 1s 16us/step - loss: 0.0229 - accuracy: 0.9938 - val_loss: 0.0247 - val_accuracy: 0.9937\n",
      "\n",
      "Epoch 00004: val_loss improved from 0.03319 to 0.02467, saving model to model-004-0.993766-0.993736.h5\n",
      "Epoch 5/500\n",
      "33045/33045 [==============================] - 1s 16us/step - loss: 0.0166 - accuracy: 0.9953 - val_loss: 0.0292 - val_accuracy: 0.9939\n",
      "\n",
      "Epoch 00005: val_loss did not improve from 0.02467\n",
      "Epoch 6/500\n",
      "33045/33045 [==============================] - 1s 16us/step - loss: 0.0121 - accuracy: 0.9968 - val_loss: 0.0315 - val_accuracy: 0.9940\n",
      "\n",
      "Epoch 00006: val_loss did not improve from 0.02467\n",
      "Epoch 7/500\n",
      "33045/33045 [==============================] - 1s 16us/step - loss: 0.0113 - accuracy: 0.9969 - val_loss: 0.0327 - val_accuracy: 0.9940\n",
      "\n",
      "Epoch 00007: val_loss did not improve from 0.02467\n",
      "Epoch 8/500\n",
      "33045/33045 [==============================] - 1s 16us/step - loss: 0.0132 - accuracy: 0.9957 - val_loss: 0.0291 - val_accuracy: 0.9953\n",
      "\n",
      "Epoch 00008: val_loss did not improve from 0.02467\n",
      "Epoch 9/500\n",
      "33045/33045 [==============================] - 1s 16us/step - loss: 0.0091 - accuracy: 0.9969 - val_loss: 0.0335 - val_accuracy: 0.9951\n",
      "\n",
      "Epoch 00009: val_loss did not improve from 0.02467\n",
      "Epoch 10/500\n",
      "33045/33045 [==============================] - 1s 16us/step - loss: 0.0079 - accuracy: 0.9978 - val_loss: 0.0257 - val_accuracy: 0.9949\n",
      "\n",
      "Epoch 00010: val_loss did not improve from 0.02467\n",
      "Epoch 11/500\n",
      "33045/33045 [==============================] - 1s 15us/step - loss: 0.0062 - accuracy: 0.9982 - val_loss: 0.0280 - val_accuracy: 0.9956\n",
      "\n",
      "Epoch 00011: val_loss did not improve from 0.02467\n",
      "Epoch 12/500\n",
      "33045/33045 [==============================] - 1s 15us/step - loss: 0.0067 - accuracy: 0.9981 - val_loss: 0.0286 - val_accuracy: 0.9952\n",
      "\n",
      "Epoch 00012: val_loss did not improve from 0.02467\n",
      "Epoch 13/500\n",
      "33045/33045 [==============================] - 0s 14us/step - loss: 0.0043 - accuracy: 0.9985 - val_loss: 0.0390 - val_accuracy: 0.9939\n",
      "\n",
      "Epoch 00013: val_loss did not improve from 0.02467\n",
      "Epoch 14/500\n",
      "33045/33045 [==============================] - 0s 15us/step - loss: 0.0056 - accuracy: 0.9982 - val_loss: 0.0330 - val_accuracy: 0.9954\n",
      "\n",
      "Epoch 00014: val_loss did not improve from 0.02467\n",
      "Epoch 15/500\n",
      "33045/33045 [==============================] - 1s 16us/step - loss: 0.0052 - accuracy: 0.9985 - val_loss: 0.0317 - val_accuracy: 0.9956\n",
      "\n",
      "Epoch 00015: val_loss did not improve from 0.02467\n",
      "Epoch 16/500\n",
      "33045/33045 [==============================] - 0s 15us/step - loss: 0.0053 - accuracy: 0.9982 - val_loss: 0.0465 - val_accuracy: 0.9948\n",
      "\n",
      "Epoch 00016: val_loss did not improve from 0.02467\n",
      "Epoch 17/500\n",
      "33045/33045 [==============================] - 0s 15us/step - loss: 0.0061 - accuracy: 0.9981 - val_loss: 0.0330 - val_accuracy: 0.9948\n",
      "\n",
      "Epoch 00017: val_loss did not improve from 0.02467\n",
      "Epoch 18/500\n",
      "33045/33045 [==============================] - 1s 16us/step - loss: 0.0051 - accuracy: 0.9985 - val_loss: 0.0342 - val_accuracy: 0.9939\n",
      "\n",
      "Epoch 00018: val_loss did not improve from 0.02467\n",
      "Epoch 19/500\n",
      "33045/33045 [==============================] - 1s 16us/step - loss: 0.0044 - accuracy: 0.9985 - val_loss: 0.0387 - val_accuracy: 0.9949\n",
      "\n",
      "Epoch 00019: val_loss did not improve from 0.02467\n",
      "Epoch 20/500\n",
      "33045/33045 [==============================] - 1s 16us/step - loss: 0.0095 - accuracy: 0.9979 - val_loss: 0.0312 - val_accuracy: 0.9958\n",
      "\n",
      "Epoch 00020: val_loss did not improve from 0.02467\n",
      "Epoch 21/500\n",
      "33045/33045 [==============================] - 1s 16us/step - loss: 0.0053 - accuracy: 0.9987 - val_loss: 0.0328 - val_accuracy: 0.9946\n",
      "\n",
      "Epoch 00021: val_loss did not improve from 0.02467\n",
      "Epoch 22/500\n",
      "33045/33045 [==============================] - 0s 15us/step - loss: 0.0032 - accuracy: 0.9990 - val_loss: 0.0332 - val_accuracy: 0.9956\n",
      "\n",
      "Epoch 00022: val_loss did not improve from 0.02467\n",
      "Epoch 23/500\n",
      "33045/33045 [==============================] - 0s 15us/step - loss: 0.0037 - accuracy: 0.9987 - val_loss: 0.0290 - val_accuracy: 0.9957\n",
      "\n",
      "Epoch 00023: val_loss did not improve from 0.02467\n",
      "Epoch 24/500\n",
      "33045/33045 [==============================] - 0s 15us/step - loss: 0.0017 - accuracy: 0.9994 - val_loss: 0.0371 - val_accuracy: 0.9951\n",
      "\n",
      "Epoch 00024: val_loss did not improve from 0.02467\n",
      "Epoch 25/500\n",
      "33045/33045 [==============================] - 1s 15us/step - loss: 0.0030 - accuracy: 0.9990 - val_loss: 0.0406 - val_accuracy: 0.9950\n",
      "\n",
      "Epoch 00025: val_loss did not improve from 0.02467\n",
      "Epoch 26/500\n",
      "33045/33045 [==============================] - 1s 15us/step - loss: 0.0042 - accuracy: 0.9988 - val_loss: 0.0437 - val_accuracy: 0.9931\n",
      "\n",
      "Epoch 00026: val_loss did not improve from 0.02467\n",
      "Epoch 27/500\n",
      "33045/33045 [==============================] - 0s 15us/step - loss: 0.0038 - accuracy: 0.9988 - val_loss: 0.0350 - val_accuracy: 0.9949\n",
      "\n",
      "Epoch 00027: val_loss did not improve from 0.02467\n",
      "Epoch 28/500\n",
      "33045/33045 [==============================] - 1s 15us/step - loss: 0.0014 - accuracy: 0.9995 - val_loss: 0.0390 - val_accuracy: 0.9956\n",
      "\n",
      "Epoch 00028: val_loss did not improve from 0.02467\n",
      "Epoch 29/500\n",
      "33045/33045 [==============================] - 1s 15us/step - loss: 0.0021 - accuracy: 0.9995 - val_loss: 0.0345 - val_accuracy: 0.9956\n",
      "\n",
      "Epoch 00029: val_loss did not improve from 0.02467\n",
      "Epoch 30/500\n",
      "33045/33045 [==============================] - 0s 14us/step - loss: 0.0033 - accuracy: 0.9991 - val_loss: 0.0350 - val_accuracy: 0.9945\n",
      "\n",
      "Epoch 00030: val_loss did not improve from 0.02467\n",
      "Epoch 31/500\n",
      "33045/33045 [==============================] - 0s 14us/step - loss: 0.0050 - accuracy: 0.9985 - val_loss: 0.0414 - val_accuracy: 0.9955\n",
      "\n",
      "Epoch 00031: val_loss did not improve from 0.02467\n",
      "Epoch 32/500\n",
      "33045/33045 [==============================] - 0s 14us/step - loss: 0.0025 - accuracy: 0.9993 - val_loss: 0.0355 - val_accuracy: 0.9959\n",
      "\n",
      "Epoch 00032: val_loss did not improve from 0.02467\n",
      "Epoch 33/500\n",
      "33045/33045 [==============================] - 0s 14us/step - loss: 0.0024 - accuracy: 0.9991 - val_loss: 0.0377 - val_accuracy: 0.9956\n",
      "\n",
      "Epoch 00033: val_loss did not improve from 0.02467\n",
      "Epoch 34/500\n",
      "33045/33045 [==============================] - 0s 14us/step - loss: 0.0062 - accuracy: 0.9982 - val_loss: 0.0294 - val_accuracy: 0.9953\n",
      "\n",
      "Epoch 00034: val_loss did not improve from 0.02467\n",
      "Epoch 35/500\n",
      "33045/33045 [==============================] - 0s 15us/step - loss: 0.0039 - accuracy: 0.9989 - val_loss: 0.0362 - val_accuracy: 0.9956\n",
      "\n",
      "Epoch 00035: val_loss did not improve from 0.02467\n",
      "Epoch 36/500\n",
      "33045/33045 [==============================] - 1s 16us/step - loss: 0.0032 - accuracy: 0.9989 - val_loss: 0.0407 - val_accuracy: 0.9960\n",
      "\n",
      "Epoch 00036: val_loss did not improve from 0.02467\n",
      "Epoch 37/500\n",
      "33045/33045 [==============================] - 0s 15us/step - loss: 0.0026 - accuracy: 0.9993 - val_loss: 0.0381 - val_accuracy: 0.9964\n",
      "\n",
      "Epoch 00037: val_loss did not improve from 0.02467\n",
      "Epoch 38/500\n",
      "33045/33045 [==============================] - 1s 15us/step - loss: 0.0068 - accuracy: 0.9983 - val_loss: 0.0335 - val_accuracy: 0.9953\n",
      "\n",
      "Epoch 00038: val_loss did not improve from 0.02467\n",
      "Epoch 39/500\n",
      "33045/33045 [==============================] - 0s 15us/step - loss: 0.0032 - accuracy: 0.9991 - val_loss: 0.0412 - val_accuracy: 0.9952\n",
      "\n",
      "Epoch 00039: val_loss did not improve from 0.02467\n",
      "Epoch 40/500\n",
      "33045/33045 [==============================] - 1s 15us/step - loss: 0.0024 - accuracy: 0.9994 - val_loss: 0.0396 - val_accuracy: 0.9955\n",
      "\n",
      "Epoch 00040: val_loss did not improve from 0.02467\n",
      "Epoch 41/500\n",
      "33045/33045 [==============================] - 1s 15us/step - loss: 0.0016 - accuracy: 0.9994 - val_loss: 0.0397 - val_accuracy: 0.9952\n",
      "\n",
      "Epoch 00041: val_loss did not improve from 0.02467\n",
      "Epoch 42/500\n",
      "33045/33045 [==============================] - 0s 15us/step - loss: 0.0042 - accuracy: 0.9989 - val_loss: 0.0483 - val_accuracy: 0.9955\n",
      "\n",
      "Epoch 00042: val_loss did not improve from 0.02467\n",
      "Epoch 43/500\n",
      "33045/33045 [==============================] - 0s 15us/step - loss: 0.0033 - accuracy: 0.9993 - val_loss: 0.0438 - val_accuracy: 0.9952\n",
      "\n",
      "Epoch 00043: val_loss did not improve from 0.02467\n",
      "Epoch 44/500\n",
      "33045/33045 [==============================] - 1s 15us/step - loss: 0.0021 - accuracy: 0.9994 - val_loss: 0.0378 - val_accuracy: 0.9963\n",
      "\n",
      "Epoch 00044: val_loss did not improve from 0.02467\n",
      "Epoch 45/500\n",
      "33045/33045 [==============================] - 0s 15us/step - loss: 0.0017 - accuracy: 0.9994 - val_loss: 0.0425 - val_accuracy: 0.9952\n",
      "\n",
      "Epoch 00045: val_loss did not improve from 0.02467\n",
      "Epoch 46/500\n",
      "33045/33045 [==============================] - 1s 16us/step - loss: 0.0016 - accuracy: 0.9996 - val_loss: 0.0519 - val_accuracy: 0.9958\n",
      "\n",
      "Epoch 00046: val_loss did not improve from 0.02467\n",
      "Epoch 47/500\n",
      "33045/33045 [==============================] - 0s 15us/step - loss: 0.0023 - accuracy: 0.9992 - val_loss: 0.0359 - val_accuracy: 0.9960\n",
      "\n",
      "Epoch 00047: val_loss did not improve from 0.02467\n",
      "Epoch 48/500\n",
      "33045/33045 [==============================] - 1s 16us/step - loss: 0.0030 - accuracy: 0.9992 - val_loss: 0.0320 - val_accuracy: 0.9963\n",
      "\n",
      "Epoch 00048: val_loss did not improve from 0.02467\n",
      "Epoch 49/500\n",
      "33045/33045 [==============================] - 1s 16us/step - loss: 0.0031 - accuracy: 0.9989 - val_loss: 0.0354 - val_accuracy: 0.9956\n",
      "\n",
      "Epoch 00049: val_loss did not improve from 0.02467\n",
      "Epoch 50/500\n",
      "33045/33045 [==============================] - 1s 15us/step - loss: 0.0017 - accuracy: 0.9995 - val_loss: 0.0386 - val_accuracy: 0.9952\n",
      "\n",
      "Epoch 00050: val_loss did not improve from 0.02467\n",
      "Epoch 51/500\n",
      "33045/33045 [==============================] - 0s 15us/step - loss: 0.0034 - accuracy: 0.9989 - val_loss: 0.0403 - val_accuracy: 0.9954\n",
      "\n",
      "Epoch 00051: val_loss did not improve from 0.02467\n",
      "Epoch 52/500\n",
      "33045/33045 [==============================] - 1s 15us/step - loss: 0.0043 - accuracy: 0.9988 - val_loss: 0.0439 - val_accuracy: 0.9945\n",
      "\n",
      "Epoch 00052: val_loss did not improve from 0.02467\n",
      "Epoch 53/500\n",
      "33045/33045 [==============================] - 1s 15us/step - loss: 0.0015 - accuracy: 0.9996 - val_loss: 0.0411 - val_accuracy: 0.9949\n",
      "\n",
      "Epoch 00053: val_loss did not improve from 0.02467\n",
      "Epoch 54/500\n",
      "33045/33045 [==============================] - 1s 16us/step - loss: 0.0018 - accuracy: 0.9994 - val_loss: 0.0466 - val_accuracy: 0.9952\n",
      "\n",
      "Epoch 00054: val_loss did not improve from 0.02467\n",
      "Epoch 55/500\n",
      "33045/33045 [==============================] - 1s 16us/step - loss: 0.0025 - accuracy: 0.9992 - val_loss: 0.0390 - val_accuracy: 0.9956\n",
      "\n",
      "Epoch 00055: val_loss did not improve from 0.02467\n",
      "Epoch 56/500\n",
      "33045/33045 [==============================] - 1s 16us/step - loss: 9.1496e-04 - accuracy: 0.9998 - val_loss: 0.0403 - val_accuracy: 0.9956\n",
      "\n",
      "Epoch 00056: val_loss did not improve from 0.02467\n",
      "Epoch 57/500\n",
      "33045/33045 [==============================] - 1s 16us/step - loss: 0.0011 - accuracy: 0.9997 - val_loss: 0.0542 - val_accuracy: 0.9956\n",
      "\n",
      "Epoch 00057: val_loss did not improve from 0.02467\n",
      "Epoch 58/500\n",
      "33045/33045 [==============================] - 1s 16us/step - loss: 0.0013 - accuracy: 0.9998 - val_loss: 0.0401 - val_accuracy: 0.9956\n",
      "\n",
      "Epoch 00058: val_loss did not improve from 0.02467\n",
      "Epoch 59/500\n",
      "33045/33045 [==============================] - 1s 16us/step - loss: 0.0032 - accuracy: 0.9991 - val_loss: 0.0435 - val_accuracy: 0.9951\n",
      "\n",
      "Epoch 00059: val_loss did not improve from 0.02467\n",
      "Epoch 60/500\n",
      "33045/33045 [==============================] - 1s 16us/step - loss: 0.0039 - accuracy: 0.9990 - val_loss: 0.0316 - val_accuracy: 0.9956\n",
      "\n",
      "Epoch 00060: val_loss did not improve from 0.02467\n",
      "Epoch 61/500\n",
      "33045/33045 [==============================] - 1s 16us/step - loss: 0.0014 - accuracy: 0.9995 - val_loss: 0.0340 - val_accuracy: 0.9960\n",
      "\n",
      "Epoch 00061: val_loss did not improve from 0.02467\n",
      "Epoch 62/500\n",
      "33045/33045 [==============================] - 1s 16us/step - loss: 4.1653e-04 - accuracy: 0.9999 - val_loss: 0.0414 - val_accuracy: 0.9959\n",
      "\n",
      "Epoch 00062: val_loss did not improve from 0.02467\n",
      "Epoch 63/500\n",
      "33045/33045 [==============================] - 1s 16us/step - loss: 0.0014 - accuracy: 0.9995 - val_loss: 0.0357 - val_accuracy: 0.9966\n",
      "\n",
      "Epoch 00063: val_loss did not improve from 0.02467\n",
      "Epoch 64/500\n",
      "33045/33045 [==============================] - 1s 16us/step - loss: 0.0032 - accuracy: 0.9990 - val_loss: 0.0420 - val_accuracy: 0.9957\n",
      "\n",
      "Epoch 00064: val_loss did not improve from 0.02467\n",
      "Epoch 65/500\n",
      "33045/33045 [==============================] - 1s 15us/step - loss: 0.0011 - accuracy: 0.9996 - val_loss: 0.0410 - val_accuracy: 0.9957\n",
      "\n",
      "Epoch 00065: val_loss did not improve from 0.02467\n",
      "Epoch 66/500\n",
      "33045/33045 [==============================] - 0s 15us/step - loss: 0.0013 - accuracy: 0.9995 - val_loss: 0.0366 - val_accuracy: 0.9963\n",
      "\n",
      "Epoch 00066: val_loss did not improve from 0.02467\n",
      "Epoch 67/500\n",
      "33045/33045 [==============================] - 0s 14us/step - loss: 5.4480e-04 - accuracy: 0.9998 - val_loss: 0.0466 - val_accuracy: 0.9957\n",
      "\n",
      "Epoch 00067: val_loss did not improve from 0.02467\n",
      "Epoch 68/500\n",
      "33045/33045 [==============================] - 1s 15us/step - loss: 0.0029 - accuracy: 0.9994 - val_loss: 0.0346 - val_accuracy: 0.9955\n",
      "\n",
      "Epoch 00068: val_loss did not improve from 0.02467\n",
      "Epoch 69/500\n",
      "33045/33045 [==============================] - 1s 16us/step - loss: 0.0013 - accuracy: 0.9996 - val_loss: 0.0344 - val_accuracy: 0.9951\n",
      "\n",
      "Epoch 00069: val_loss did not improve from 0.02467\n",
      "Epoch 70/500\n",
      "33045/33045 [==============================] - 0s 15us/step - loss: 0.0023 - accuracy: 0.9993 - val_loss: 0.0414 - val_accuracy: 0.9956\n",
      "\n",
      "Epoch 00070: val_loss did not improve from 0.02467\n",
      "Epoch 71/500\n",
      "33045/33045 [==============================] - 0s 14us/step - loss: 0.0022 - accuracy: 0.9992 - val_loss: 0.0414 - val_accuracy: 0.9963\n",
      "\n",
      "Epoch 00071: val_loss did not improve from 0.02467\n",
      "Epoch 72/500\n",
      "33045/33045 [==============================] - 0s 14us/step - loss: 0.0020 - accuracy: 0.9994 - val_loss: 0.0444 - val_accuracy: 0.9959\n",
      "\n",
      "Epoch 00072: val_loss did not improve from 0.02467\n",
      "Epoch 73/500\n",
      "33045/33045 [==============================] - 1s 15us/step - loss: 0.0017 - accuracy: 0.9993 - val_loss: 0.0361 - val_accuracy: 0.9956\n",
      "\n",
      "Epoch 00073: val_loss did not improve from 0.02467\n",
      "Epoch 74/500\n",
      "33045/33045 [==============================] - 0s 15us/step - loss: 0.0010 - accuracy: 0.9997 - val_loss: 0.0353 - val_accuracy: 0.9959\n",
      "\n",
      "Epoch 00074: val_loss did not improve from 0.02467\n",
      "Epoch 75/500\n",
      "33045/33045 [==============================] - 1s 16us/step - loss: 0.0020 - accuracy: 0.9997 - val_loss: 0.0450 - val_accuracy: 0.9963\n",
      "\n",
      "Epoch 00075: val_loss did not improve from 0.02467\n",
      "Epoch 76/500\n",
      "33045/33045 [==============================] - 1s 16us/step - loss: 0.0021 - accuracy: 0.9995 - val_loss: 0.0340 - val_accuracy: 0.9964\n",
      "\n",
      "Epoch 00076: val_loss did not improve from 0.02467\n",
      "Epoch 77/500\n",
      "33045/33045 [==============================] - 1s 16us/step - loss: 0.0025 - accuracy: 0.9993 - val_loss: 0.0332 - val_accuracy: 0.9961\n",
      "\n",
      "Epoch 00077: val_loss did not improve from 0.02467\n",
      "Epoch 78/500\n",
      "33045/33045 [==============================] - 0s 15us/step - loss: 0.0017 - accuracy: 0.9996 - val_loss: 0.0362 - val_accuracy: 0.9963\n",
      "\n",
      "Epoch 00078: val_loss did not improve from 0.02467\n",
      "Epoch 79/500\n",
      "33045/33045 [==============================] - 1s 16us/step - loss: 6.8389e-04 - accuracy: 0.9997 - val_loss: 0.0423 - val_accuracy: 0.9963\n",
      "\n",
      "Epoch 00079: val_loss did not improve from 0.02467\n",
      "Epoch 80/500\n",
      "33045/33045 [==============================] - 1s 16us/step - loss: 0.0020 - accuracy: 0.9994 - val_loss: 0.0366 - val_accuracy: 0.9962\n",
      "\n",
      "Epoch 00080: val_loss did not improve from 0.02467\n",
      "Epoch 81/500\n",
      "33045/33045 [==============================] - 1s 16us/step - loss: 0.0020 - accuracy: 0.9995 - val_loss: 0.0360 - val_accuracy: 0.9960\n",
      "\n",
      "Epoch 00081: val_loss did not improve from 0.02467\n",
      "Epoch 82/500\n",
      "33045/33045 [==============================] - 1s 16us/step - loss: 9.8274e-04 - accuracy: 0.9997 - val_loss: 0.0393 - val_accuracy: 0.9966\n",
      "\n",
      "Epoch 00082: val_loss did not improve from 0.02467\n",
      "Epoch 83/500\n",
      "33045/33045 [==============================] - 1s 16us/step - loss: 0.0014 - accuracy: 0.9996 - val_loss: 0.0347 - val_accuracy: 0.9956\n",
      "\n",
      "Epoch 00083: val_loss did not improve from 0.02467\n",
      "Epoch 84/500\n",
      "33045/33045 [==============================] - 1s 16us/step - loss: 0.0014 - accuracy: 0.9996 - val_loss: 0.0456 - val_accuracy: 0.9959\n",
      "\n",
      "Epoch 00084: val_loss did not improve from 0.02467\n",
      "Epoch 85/500\n",
      "33045/33045 [==============================] - 1s 16us/step - loss: 0.0011 - accuracy: 0.9998 - val_loss: 0.0374 - val_accuracy: 0.9963\n",
      "\n",
      "Epoch 00085: val_loss did not improve from 0.02467\n",
      "Epoch 86/500\n",
      "33045/33045 [==============================] - 1s 16us/step - loss: 0.0018 - accuracy: 0.9994 - val_loss: 0.0351 - val_accuracy: 0.9965\n",
      "\n",
      "Epoch 00086: val_loss did not improve from 0.02467\n",
      "Epoch 87/500\n",
      "33045/33045 [==============================] - 1s 16us/step - loss: 0.0010 - accuracy: 0.9996 - val_loss: 0.0440 - val_accuracy: 0.9956\n",
      "\n",
      "Epoch 00087: val_loss did not improve from 0.02467\n",
      "Epoch 88/500\n",
      "33045/33045 [==============================] - 1s 16us/step - loss: 0.0012 - accuracy: 0.9997 - val_loss: 0.0360 - val_accuracy: 0.9966\n",
      "\n",
      "Epoch 00088: val_loss did not improve from 0.02467\n",
      "Epoch 89/500\n",
      "33045/33045 [==============================] - 1s 16us/step - loss: 3.8351e-04 - accuracy: 0.9999 - val_loss: 0.0380 - val_accuracy: 0.9966\n",
      "\n",
      "Epoch 00089: val_loss did not improve from 0.02467\n",
      "Epoch 90/500\n",
      "33045/33045 [==============================] - 1s 16us/step - loss: 8.9000e-04 - accuracy: 0.9998 - val_loss: 0.0401 - val_accuracy: 0.9966\n",
      "\n",
      "Epoch 00090: val_loss did not improve from 0.02467\n",
      "Epoch 91/500\n",
      "33045/33045 [==============================] - 1s 16us/step - loss: 0.0012 - accuracy: 0.9996 - val_loss: 0.0410 - val_accuracy: 0.9966\n",
      "\n",
      "Epoch 00091: val_loss did not improve from 0.02467\n",
      "Epoch 92/500\n",
      "33045/33045 [==============================] - 1s 16us/step - loss: 9.5711e-04 - accuracy: 0.9997 - val_loss: 0.0413 - val_accuracy: 0.9964\n",
      "\n",
      "Epoch 00092: val_loss did not improve from 0.02467\n",
      "Epoch 93/500\n",
      "33045/33045 [==============================] - 1s 16us/step - loss: 0.0021 - accuracy: 0.9995 - val_loss: 0.0436 - val_accuracy: 0.9949\n",
      "\n",
      "Epoch 00093: val_loss did not improve from 0.02467\n",
      "Epoch 94/500\n",
      "33045/33045 [==============================] - 0s 14us/step - loss: 7.5378e-04 - accuracy: 0.9997 - val_loss: 0.0411 - val_accuracy: 0.9963\n",
      "\n",
      "Epoch 00094: val_loss did not improve from 0.02467\n",
      "Epoch 95/500\n",
      "33045/33045 [==============================] - 0s 15us/step - loss: 3.8263e-04 - accuracy: 0.9999 - val_loss: 0.0422 - val_accuracy: 0.9963\n",
      "\n",
      "Epoch 00095: val_loss did not improve from 0.02467\n",
      "Epoch 96/500\n",
      "33045/33045 [==============================] - 0s 14us/step - loss: 0.0027 - accuracy: 0.9994 - val_loss: 0.0347 - val_accuracy: 0.9956\n",
      "\n",
      "Epoch 00096: val_loss did not improve from 0.02467\n",
      "Epoch 97/500\n",
      "33045/33045 [==============================] - 0s 14us/step - loss: 0.0026 - accuracy: 0.9992 - val_loss: 0.0323 - val_accuracy: 0.9962\n",
      "\n",
      "Epoch 00097: val_loss did not improve from 0.02467\n",
      "Epoch 98/500\n",
      "33045/33045 [==============================] - 1s 16us/step - loss: 5.2436e-04 - accuracy: 0.9999 - val_loss: 0.0379 - val_accuracy: 0.9964\n",
      "\n",
      "Epoch 00098: val_loss did not improve from 0.02467\n",
      "Epoch 99/500\n",
      "33045/33045 [==============================] - 1s 16us/step - loss: 6.5296e-04 - accuracy: 0.9998 - val_loss: 0.0455 - val_accuracy: 0.9965\n",
      "\n",
      "Epoch 00099: val_loss did not improve from 0.02467\n",
      "Epoch 100/500\n",
      "33045/33045 [==============================] - 1s 16us/step - loss: 0.0012 - accuracy: 0.9997 - val_loss: 0.0380 - val_accuracy: 0.9957\n",
      "\n",
      "Epoch 00100: val_loss did not improve from 0.02467\n",
      "Epoch 101/500\n",
      "33045/33045 [==============================] - 1s 16us/step - loss: 6.0064e-04 - accuracy: 0.9998 - val_loss: 0.0415 - val_accuracy: 0.9960\n",
      "\n",
      "Epoch 00101: val_loss did not improve from 0.02467\n",
      "Epoch 102/500\n",
      "33045/33045 [==============================] - 1s 16us/step - loss: 0.0013 - accuracy: 0.9996 - val_loss: 0.0422 - val_accuracy: 0.9956\n",
      "\n",
      "Epoch 00102: val_loss did not improve from 0.02467\n",
      "Epoch 103/500\n",
      "33045/33045 [==============================] - 1s 16us/step - loss: 6.4190e-04 - accuracy: 0.9998 - val_loss: 0.0404 - val_accuracy: 0.9965\n",
      "\n",
      "Epoch 00103: val_loss did not improve from 0.02467\n",
      "Epoch 104/500\n",
      "33045/33045 [==============================] - 1s 16us/step - loss: 0.0019 - accuracy: 0.9996 - val_loss: 0.0399 - val_accuracy: 0.9961\n",
      "\n",
      "Epoch 00104: val_loss did not improve from 0.02467\n",
      "Epoch 105/500\n",
      "33045/33045 [==============================] - 1s 16us/step - loss: 8.6799e-04 - accuracy: 0.9998 - val_loss: 0.0402 - val_accuracy: 0.9960\n",
      "\n",
      "Epoch 00105: val_loss did not improve from 0.02467\n",
      "Epoch 106/500\n",
      "33045/33045 [==============================] - 1s 16us/step - loss: 6.2103e-04 - accuracy: 0.9998 - val_loss: 0.0420 - val_accuracy: 0.9964\n",
      "\n",
      "Epoch 00106: val_loss did not improve from 0.02467\n",
      "Epoch 107/500\n",
      "33045/33045 [==============================] - 1s 16us/step - loss: 5.6074e-04 - accuracy: 0.9998 - val_loss: 0.0473 - val_accuracy: 0.9959\n",
      "\n",
      "Epoch 00107: val_loss did not improve from 0.02467\n",
      "Epoch 108/500\n",
      "33045/33045 [==============================] - 1s 16us/step - loss: 5.1311e-04 - accuracy: 0.9998 - val_loss: 0.0462 - val_accuracy: 0.9961\n",
      "\n",
      "Epoch 00108: val_loss did not improve from 0.02467\n",
      "Epoch 109/500\n",
      "33045/33045 [==============================] - 1s 16us/step - loss: 5.3417e-04 - accuracy: 0.9999 - val_loss: 0.0563 - val_accuracy: 0.9957\n",
      "\n",
      "Epoch 00109: val_loss did not improve from 0.02467\n",
      "Epoch 110/500\n",
      "33045/33045 [==============================] - 1s 16us/step - loss: 7.3561e-04 - accuracy: 0.9998 - val_loss: 0.0479 - val_accuracy: 0.9956\n",
      "\n",
      "Epoch 00110: val_loss did not improve from 0.02467\n",
      "Epoch 111/500\n",
      "33045/33045 [==============================] - 1s 16us/step - loss: 0.0037 - accuracy: 0.9992 - val_loss: 0.0455 - val_accuracy: 0.9956\n",
      "\n",
      "Epoch 00111: val_loss did not improve from 0.02467\n",
      "Epoch 112/500\n",
      "33045/33045 [==============================] - 1s 16us/step - loss: 0.0013 - accuracy: 0.9997 - val_loss: 0.0424 - val_accuracy: 0.9965\n",
      "\n",
      "Epoch 00112: val_loss did not improve from 0.02467\n",
      "Epoch 113/500\n",
      "33045/33045 [==============================] - 1s 16us/step - loss: 0.0012 - accuracy: 0.9996 - val_loss: 0.0432 - val_accuracy: 0.9961\n",
      "\n",
      "Epoch 00113: val_loss did not improve from 0.02467\n",
      "Epoch 114/500\n",
      "33045/33045 [==============================] - 1s 16us/step - loss: 2.3503e-04 - accuracy: 0.9999 - val_loss: 0.0507 - val_accuracy: 0.9962\n",
      "\n",
      "Epoch 00114: val_loss did not improve from 0.02467\n",
      "Epoch 115/500\n",
      "33045/33045 [==============================] - 1s 16us/step - loss: 0.0026 - accuracy: 0.9994 - val_loss: 0.0455 - val_accuracy: 0.9963\n",
      "\n",
      "Epoch 00115: val_loss did not improve from 0.02467\n",
      "Epoch 116/500\n",
      "33045/33045 [==============================] - 1s 16us/step - loss: 7.7708e-04 - accuracy: 0.9998 - val_loss: 0.0399 - val_accuracy: 0.9964\n",
      "\n",
      "Epoch 00116: val_loss did not improve from 0.02467\n",
      "Epoch 117/500\n",
      "33045/33045 [==============================] - 1s 16us/step - loss: 6.6462e-04 - accuracy: 0.9998 - val_loss: 0.0496 - val_accuracy: 0.9960\n",
      "\n",
      "Epoch 00117: val_loss did not improve from 0.02467\n",
      "Epoch 118/500\n",
      "33045/33045 [==============================] - 1s 16us/step - loss: 0.0021 - accuracy: 0.9995 - val_loss: 0.0369 - val_accuracy: 0.9964\n",
      "\n",
      "Epoch 00118: val_loss did not improve from 0.02467\n",
      "Epoch 119/500\n",
      "33045/33045 [==============================] - 1s 16us/step - loss: 9.0914e-04 - accuracy: 0.9997 - val_loss: 0.0516 - val_accuracy: 0.9961\n",
      "\n",
      "Epoch 00119: val_loss did not improve from 0.02467\n",
      "Epoch 120/500\n",
      "33045/33045 [==============================] - 1s 15us/step - loss: 9.3948e-04 - accuracy: 0.9996 - val_loss: 0.0419 - val_accuracy: 0.9964\n",
      "\n",
      "Epoch 00120: val_loss did not improve from 0.02467\n",
      "Epoch 121/500\n",
      "33045/33045 [==============================] - 1s 16us/step - loss: 5.8288e-04 - accuracy: 0.9998 - val_loss: 0.0457 - val_accuracy: 0.9969\n",
      "\n",
      "Epoch 00121: val_loss did not improve from 0.02467\n",
      "Epoch 122/500\n",
      "33045/33045 [==============================] - 1s 15us/step - loss: 0.0012 - accuracy: 0.9997 - val_loss: 0.0418 - val_accuracy: 0.9964\n",
      "\n",
      "Epoch 00122: val_loss did not improve from 0.02467\n",
      "Epoch 123/500\n",
      "33045/33045 [==============================] - 1s 15us/step - loss: 5.9569e-04 - accuracy: 0.9998 - val_loss: 0.0424 - val_accuracy: 0.9959\n",
      "\n",
      "Epoch 00123: val_loss did not improve from 0.02467\n",
      "Epoch 124/500\n",
      "33045/33045 [==============================] - 1s 15us/step - loss: 4.5721e-04 - accuracy: 0.9998 - val_loss: 0.0456 - val_accuracy: 0.9966\n",
      "\n",
      "Epoch 00124: val_loss did not improve from 0.02467\n",
      "Epoch 125/500\n",
      "33045/33045 [==============================] - 1s 16us/step - loss: 1.9932e-04 - accuracy: 1.0000 - val_loss: 0.0630 - val_accuracy: 0.9950\n",
      "\n",
      "Epoch 00125: val_loss did not improve from 0.02467\n",
      "Epoch 126/500\n",
      "33045/33045 [==============================] - 1s 16us/step - loss: 0.0032 - accuracy: 0.9994 - val_loss: 0.0454 - val_accuracy: 0.9964\n",
      "\n",
      "Epoch 00126: val_loss did not improve from 0.02467\n",
      "Epoch 127/500\n",
      "33045/33045 [==============================] - 1s 16us/step - loss: 6.0636e-04 - accuracy: 0.9998 - val_loss: 0.0442 - val_accuracy: 0.9961\n",
      "\n",
      "Epoch 00127: val_loss did not improve from 0.02467\n",
      "Epoch 128/500\n",
      "33045/33045 [==============================] - 1s 16us/step - loss: 3.0315e-04 - accuracy: 0.9999 - val_loss: 0.0469 - val_accuracy: 0.9961\n",
      "\n",
      "Epoch 00128: val_loss did not improve from 0.02467\n",
      "Epoch 129/500\n",
      "33045/33045 [==============================] - 1s 16us/step - loss: 0.0014 - accuracy: 0.9995 - val_loss: 0.0593 - val_accuracy: 0.9951\n",
      "\n",
      "Epoch 00129: val_loss did not improve from 0.02467\n",
      "Epoch 130/500\n",
      "33045/33045 [==============================] - 1s 16us/step - loss: 7.4813e-04 - accuracy: 0.9997 - val_loss: 0.0485 - val_accuracy: 0.9958\n",
      "\n",
      "Epoch 00130: val_loss did not improve from 0.02467\n",
      "Epoch 131/500\n",
      "33045/33045 [==============================] - 1s 16us/step - loss: 6.1805e-04 - accuracy: 0.9999 - val_loss: 0.0515 - val_accuracy: 0.9958\n",
      "\n",
      "Epoch 00131: val_loss did not improve from 0.02467\n",
      "Epoch 132/500\n",
      "33045/33045 [==============================] - 1s 15us/step - loss: 5.7127e-04 - accuracy: 0.9998 - val_loss: 0.0538 - val_accuracy: 0.9956\n",
      "\n",
      "Epoch 00132: val_loss did not improve from 0.02467\n",
      "Epoch 133/500\n",
      "33045/33045 [==============================] - 1s 16us/step - loss: 8.7412e-04 - accuracy: 0.9997 - val_loss: 0.0550 - val_accuracy: 0.9959\n",
      "\n",
      "Epoch 00133: val_loss did not improve from 0.02467\n",
      "Epoch 134/500\n",
      "33045/33045 [==============================] - 1s 15us/step - loss: 9.9572e-04 - accuracy: 0.9998 - val_loss: 0.0478 - val_accuracy: 0.9963\n",
      "\n",
      "Epoch 00134: val_loss did not improve from 0.02467\n",
      "Epoch 135/500\n",
      "33045/33045 [==============================] - 1s 16us/step - loss: 0.0012 - accuracy: 0.9997 - val_loss: 0.0385 - val_accuracy: 0.9960\n",
      "\n",
      "Epoch 00135: val_loss did not improve from 0.02467\n",
      "Epoch 136/500\n",
      "33045/33045 [==============================] - 1s 16us/step - loss: 0.0012 - accuracy: 0.9998 - val_loss: 0.0463 - val_accuracy: 0.9950\n",
      "\n",
      "Epoch 00136: val_loss did not improve from 0.02467\n",
      "Epoch 137/500\n",
      "33045/33045 [==============================] - 1s 16us/step - loss: 0.0014 - accuracy: 0.9995 - val_loss: 0.0419 - val_accuracy: 0.9963\n",
      "\n",
      "Epoch 00137: val_loss did not improve from 0.02467\n",
      "Epoch 138/500\n",
      "33045/33045 [==============================] - 1s 15us/step - loss: 4.4722e-04 - accuracy: 0.9998 - val_loss: 0.0407 - val_accuracy: 0.9960\n",
      "\n",
      "Epoch 00138: val_loss did not improve from 0.02467\n",
      "Epoch 139/500\n",
      "33045/33045 [==============================] - 0s 15us/step - loss: 2.2051e-04 - accuracy: 0.9999 - val_loss: 0.0406 - val_accuracy: 0.9963\n",
      "\n",
      "Epoch 00139: val_loss did not improve from 0.02467\n",
      "Epoch 140/500\n",
      "33045/33045 [==============================] - 1s 15us/step - loss: 8.7089e-05 - accuracy: 1.0000 - val_loss: 0.0431 - val_accuracy: 0.9963\n",
      "\n",
      "Epoch 00140: val_loss did not improve from 0.02467\n",
      "Epoch 141/500\n",
      "33045/33045 [==============================] - 1s 15us/step - loss: 8.5168e-04 - accuracy: 0.9998 - val_loss: 0.0510 - val_accuracy: 0.9964\n",
      "\n",
      "Epoch 00141: val_loss did not improve from 0.02467\n",
      "Epoch 142/500\n",
      "33045/33045 [==============================] - 1s 15us/step - loss: 2.5118e-04 - accuracy: 0.9999 - val_loss: 0.0448 - val_accuracy: 0.9964\n",
      "\n",
      "Epoch 00142: val_loss did not improve from 0.02467\n",
      "Epoch 143/500\n",
      "33045/33045 [==============================] - 1s 16us/step - loss: 0.0011 - accuracy: 0.9997 - val_loss: 0.0462 - val_accuracy: 0.9960\n",
      "\n",
      "Epoch 00143: val_loss did not improve from 0.02467\n",
      "Epoch 144/500\n",
      "33045/33045 [==============================] - 1s 16us/step - loss: 0.0022 - accuracy: 0.9995 - val_loss: 0.0528 - val_accuracy: 0.9962\n",
      "\n",
      "Epoch 00144: val_loss did not improve from 0.02467\n",
      "Epoch 145/500\n",
      "33045/33045 [==============================] - 1s 15us/step - loss: 0.0017 - accuracy: 0.9995 - val_loss: 0.0386 - val_accuracy: 0.9966\n",
      "\n",
      "Epoch 00145: val_loss did not improve from 0.02467\n",
      "Epoch 146/500\n",
      "33045/33045 [==============================] - 1s 16us/step - loss: 0.0013 - accuracy: 0.9997 - val_loss: 0.0361 - val_accuracy: 0.9966\n",
      "\n",
      "Epoch 00146: val_loss did not improve from 0.02467\n",
      "Epoch 147/500\n",
      "33045/33045 [==============================] - 1s 16us/step - loss: 8.7250e-04 - accuracy: 0.9997 - val_loss: 0.0375 - val_accuracy: 0.9963\n",
      "\n",
      "Epoch 00147: val_loss did not improve from 0.02467\n",
      "Epoch 148/500\n",
      "33045/33045 [==============================] - 1s 16us/step - loss: 6.7758e-04 - accuracy: 0.9998 - val_loss: 0.0385 - val_accuracy: 0.9966\n",
      "\n",
      "Epoch 00148: val_loss did not improve from 0.02467\n",
      "Epoch 149/500\n",
      "33045/33045 [==============================] - 1s 16us/step - loss: 4.3039e-04 - accuracy: 0.9998 - val_loss: 0.0444 - val_accuracy: 0.9964\n",
      "\n",
      "Epoch 00149: val_loss did not improve from 0.02467\n",
      "Epoch 150/500\n",
      "33045/33045 [==============================] - 1s 16us/step - loss: 6.6527e-04 - accuracy: 0.9998 - val_loss: 0.0548 - val_accuracy: 0.9946\n",
      "\n",
      "Epoch 00150: val_loss did not improve from 0.02467\n",
      "Epoch 151/500\n",
      "33045/33045 [==============================] - 1s 15us/step - loss: 1.7249e-04 - accuracy: 1.0000 - val_loss: 0.0451 - val_accuracy: 0.9963\n",
      "\n",
      "Epoch 00151: val_loss did not improve from 0.02467\n",
      "Epoch 152/500\n",
      "33045/33045 [==============================] - 1s 16us/step - loss: 1.0615e-04 - accuracy: 1.0000 - val_loss: 0.0478 - val_accuracy: 0.9964\n",
      "\n",
      "Epoch 00152: val_loss did not improve from 0.02467\n",
      "Epoch 153/500\n",
      "33045/33045 [==============================] - 1s 16us/step - loss: 3.4504e-04 - accuracy: 0.9999 - val_loss: 0.0489 - val_accuracy: 0.9970\n",
      "\n",
      "Epoch 00153: val_loss did not improve from 0.02467\n",
      "Epoch 154/500\n",
      "33045/33045 [==============================] - 1s 16us/step - loss: 0.0014 - accuracy: 0.9997 - val_loss: 0.0394 - val_accuracy: 0.9965\n",
      "\n",
      "Epoch 00154: val_loss did not improve from 0.02467\n",
      "Epoch 155/500\n",
      "33045/33045 [==============================] - 1s 16us/step - loss: 7.4386e-04 - accuracy: 0.9997 - val_loss: 0.0500 - val_accuracy: 0.9962\n",
      "\n",
      "Epoch 00155: val_loss did not improve from 0.02467\n",
      "Epoch 156/500\n",
      "15232/33045 [============>.................] - ETA: 0s - loss: 6.5336e-04 - accuracy: 0.9999"
     ]
    }
   ],
   "source": [
    "try:\n",
    "    history = model.fit(newtrainX, y_train,\n",
    "                epochs=500,\n",
    "                verbose=True,\n",
    "                validation_data=(newtestX, y_test),\n",
    "                batch_size=128,\n",
    "                callbacks=[checkpoint])\n",
    "\n",
    "\n",
    "except KeyboardInterrupt:\n",
    "    pass"
   ]
  },
  {
   "cell_type": "code",
   "execution_count": 36,
   "metadata": {},
   "outputs": [
    {
     "name": "stdout",
     "output_type": "stream",
     "text": [
      "Training Accuracy: 1.0000\n",
      "Testing Accuracy:  0.9961\n"
     ]
    }
   ],
   "source": [
    "loss, accuracy = model.evaluate(X_train, y_train, verbose = False)\n",
    "print(\"Training Accuracy: {:.4f}\".format(accuracy))\n",
    "\n",
    "loss, accuracy = model.evaluate(X_test, y_test, verbose = False)\n",
    "print(\"Testing Accuracy:  {:.4f}\".format(accuracy))\n"
   ]
  },
  {
   "cell_type": "code",
   "execution_count": 38,
   "metadata": {},
   "outputs": [
    {
     "name": "stdout",
     "output_type": "stream",
     "text": [
      "But even if Mr. Biden wants to do so, he could face logistical and financial challenges including the payment of termination fees for canceling some contracts.\n"
     ]
    }
   ],
   "source": [
    "from newspaper import Article\n",
    "\n",
    "article = Article('https://www.nytimes.com/2020/11/28/us/trump-biden-border-wall.html')\n",
    "article.download()\n",
    "article.parse()\n",
    "\n",
    "text_body = article.text\n",
    "\n",
    "print(sentences[0])"
   ]
  },
  {
   "cell_type": "code",
   "execution_count": 46,
   "metadata": {},
   "outputs": [
    {
     "name": "stdout",
     "output_type": "stream",
     "text": [
      "(1, 1000)\n"
     ]
    }
   ],
   "source": [
    "sample_vectorized = vectorizer.transform([text_body])\n",
    "print(sample_vectorized.shape)"
   ]
  },
  {
   "cell_type": "code",
   "execution_count": 47,
   "metadata": {},
   "outputs": [
    {
     "data": {
      "text/plain": [
       "array([[0.47034785]], dtype=float32)"
      ]
     },
     "execution_count": 47,
     "metadata": {},
     "output_type": "execute_result"
    }
   ],
   "source": [
    "model.predict(sample_vectorized)"
   ]
  },
  {
   "cell_type": "code",
   "execution_count": 49,
   "metadata": {},
   "outputs": [],
   "source": [
    "df_true = pd.read_csv(\"~/FakeNewsProject/data/s_1/True.csv\")"
   ]
  },
  {
   "cell_type": "code",
   "execution_count": 58,
   "metadata": {},
   "outputs": [],
   "source": [
    "df_false = pd.read_csv(\"~/FakeNewsProject/data/s_1/Fake.csv\") "
   ]
  },
  {
   "cell_type": "code",
   "execution_count": 59,
   "metadata": {},
   "outputs": [
    {
     "name": "stdout",
     "output_type": "stream",
     "text": [
      "(1, 1000)\n",
      "Prediction:  0.0000\n"
     ]
    }
   ],
   "source": [
    "random_sample = df_false.iloc[55]['text']\n",
    "random_vectorized = vectorizer.transform([random_sample])\n",
    "print(random_vectorized.shape)\n",
    "\n",
    "res = model.predict([random_vectorized])[0][0]\n",
    "print(\"Prediction:  {:.4f}\".format(res*100))"
   ]
  },
  {
   "cell_type": "code",
   "execution_count": null,
   "metadata": {},
   "outputs": [],
   "source": [
    "# 1 = true, 0 = false"
   ]
  },
  {
   "cell_type": "code",
   "execution_count": 60,
   "metadata": {},
   "outputs": [],
   "source": [
    "import pickle\n",
    "\n",
    "with open('vectorizer', 'wb') as f:\n",
    "    pickle.dump(vectorizer, f)"
   ]
  },
  {
   "cell_type": "code",
   "execution_count": 61,
   "metadata": {},
   "outputs": [],
   "source": [
    "\n",
    "with open('model3', 'wb') as f:\n",
    "    pickle.dump(model, f)"
   ]
  }
 ],
 "metadata": {
  "kernelspec": {
   "display_name": "main",
   "language": "python",
   "name": "sinsat"
  },
  "language_info": {
   "codemirror_mode": {
    "name": "ipython",
    "version": 3
   },
   "file_extension": ".py",
   "mimetype": "text/x-python",
   "name": "python",
   "nbconvert_exporter": "python",
   "pygments_lexer": "ipython3",
   "version": "3.6.10"
  }
 },
 "nbformat": 4,
 "nbformat_minor": 4
}
